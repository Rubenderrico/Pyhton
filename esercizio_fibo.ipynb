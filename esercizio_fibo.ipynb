{
 "cells": [
  {
   "cell_type": "code",
   "execution_count": 8,
   "metadata": {},
   "outputs": [
    {
     "name": "stdout",
     "output_type": "stream",
     "text": [
      "33\n"
     ]
    }
   ],
   "source": [
    "numeroIterazioni = int(input())"
   ]
  },
  {
   "cell_type": "code",
   "execution_count": 9,
   "metadata": {},
   "outputs": [],
   "source": [
    "temporaneoA = 0\n",
    "temporaneoB = 1\n",
    "numerosequenza = 0"
   ]
  },
  {
   "cell_type": "code",
   "execution_count": 10,
   "metadata": {},
   "outputs": [
    {
     "name": "stdout",
     "output_type": "stream",
     "text": [
      "Numero Fibo =  1\n",
      "Numero Fibo =  1\n",
      "Numero Fibo =  2\n",
      "Numero Fibo =  3\n",
      "Numero Fibo =  5\n",
      "Numero Fibo =  8\n",
      "Numero Fibo =  13\n",
      "Numero Fibo =  21\n",
      "Numero Fibo =  34\n",
      "Numero Fibo =  55\n",
      "Numero Fibo =  89\n",
      "Numero Fibo =  144\n",
      "Numero Fibo =  233\n",
      "Numero Fibo =  377\n",
      "Numero Fibo =  610\n",
      "Numero Fibo =  987\n",
      "Numero Fibo =  1597\n",
      "Numero Fibo =  2584\n",
      "Numero Fibo =  4181\n",
      "Numero Fibo =  6765\n",
      "Numero Fibo =  10946\n",
      "Numero Fibo =  17711\n",
      "Numero Fibo =  28657\n",
      "Numero Fibo =  46368\n",
      "Numero Fibo =  75025\n",
      "Numero Fibo =  121393\n",
      "Numero Fibo =  196418\n",
      "Numero Fibo =  317811\n",
      "Numero Fibo =  514229\n",
      "Numero Fibo =  832040\n",
      "Numero Fibo =  1346269\n",
      "Numero Fibo =  2178309\n"
     ]
    }
   ],
   "source": [
    "for i in range(1, numeroIterazioni):\n",
    "    temporaneoA = temporaneoB\n",
    "    temporaneoB = numerosequenza\n",
    "    numerosequenza = temporaneoA + temporaneoB\n",
    "    print(\"Numero Fibo = \",numerosequenza)"
   ]
  },
  {
   "cell_type": "code",
   "execution_count": null,
   "metadata": {},
   "outputs": [],
   "source": []
  },
  {
   "cell_type": "code",
   "execution_count": null,
   "metadata": {},
   "outputs": [],
   "source": []
  }
 ],
 "metadata": {
  "kernelspec": {
   "display_name": "Python 3",
   "language": "python",
   "name": "python3"
  },
  "language_info": {
   "codemirror_mode": {
    "name": "ipython",
    "version": 3
   },
   "file_extension": ".py",
   "mimetype": "text/x-python",
   "name": "python",
   "nbconvert_exporter": "python",
   "pygments_lexer": "ipython3",
   "version": "3.6.5"
  }
 },
 "nbformat": 4,
 "nbformat_minor": 2
}
