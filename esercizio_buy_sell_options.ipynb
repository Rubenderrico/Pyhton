{
 "cells": [
  {
   "cell_type": "code",
   "execution_count": 1,
   "metadata": {},
   "outputs": [],
   "source": [
    "import numpy as np\n",
    "import matplotlib.pyplot as plt"
   ]
  },
  {
   "cell_type": "markdown",
   "metadata": {},
   "source": [
    "Creo il menu di scelta"
   ]
  },
  {
   "cell_type": "code",
   "execution_count": 2,
   "metadata": {},
   "outputs": [],
   "source": [
    "## Menu scelta operazione\n",
    "      \n",
    "def print_menu():       ## Disegno il menu\n",
    "    print (22 * \"-\" , \"Scegli l'operazione\" , 22 * \"-\")\n",
    "    print (\"1. Disegna payoff BUY CALL\")\n",
    "    print (\"2. Disegna payoff SELL CALL\")\n",
    "    print (\"3. Disegna payoff BUY PUT\")\n",
    "    print (\"4. Disegna payoff SELL PUT\")\n",
    "    print (\"5. Exit\")\n",
    "    print (67 * \"-\")"
   ]
  },
  {
   "cell_type": "markdown",
   "metadata": {},
   "source": [
    "Menu inserimento parametri di calcolo"
   ]
  },
  {
   "cell_type": "code",
   "execution_count": 3,
   "metadata": {},
   "outputs": [],
   "source": [
    "def print_menu_2():\n",
    "    print (10 * \"-\", \"Inserisci i parametri di calcolo N.B Solo numeri interi\", 10 * \"-\")\n",
    "    print(50 * \"-\")"
   ]
  },
  {
   "cell_type": "markdown",
   "metadata": {},
   "source": [
    "Calcolo payoff CALL"
   ]
  },
  {
   "cell_type": "code",
   "execution_count": 4,
   "metadata": {},
   "outputs": [],
   "source": [
    "def call_payoff(sT, strike_price, premium):\n",
    "    pnl = np.where(sT > strike_price, sT - strike_price, 0)    \n",
    "    return pnl - premium\n",
    "    "
   ]
  },
  {
   "cell_type": "markdown",
   "metadata": {},
   "source": [
    "Calcolo payoff PUT"
   ]
  },
  {
   "cell_type": "code",
   "execution_count": 5,
   "metadata": {},
   "outputs": [],
   "source": [
    "def put_payoff (sT, strike_price, premium):\n",
    "    pnl = np.where(sT < strike_price, strike_price - sT, 0)\n",
    "    return pnl - premium"
   ]
  },
  {
   "cell_type": "markdown",
   "metadata": {},
   "source": [
    "Definiamo le 4 funzioni di calcolo per i vari scenari"
   ]
  },
  {
   "cell_type": "code",
   "execution_count": 6,
   "metadata": {},
   "outputs": [],
   "source": [
    "def print_call_buy(sT, strike_price, premium):\n",
    "    payoff_long_call = call_payoff(sT, strike_price, premium)\n",
    "    # Stampiamo a video il payoff\n",
    "    fig, ax = plt.subplots()\n",
    "    ax.spines['bottom'].set_position('zero')\n",
    "    ax.plot(sT,payoff_long_call,label='Call option buyer payoff')\n",
    "    plt.xlabel('Infosys Stock Price')\n",
    "    plt.ylabel('Profit and loss')\n",
    "    plt.legend()\n",
    "    plt.show()"
   ]
  },
  {
   "cell_type": "code",
   "execution_count": 7,
   "metadata": {},
   "outputs": [],
   "source": [
    "def print_put_buy(sT, strike_price, premium):\n",
    "    payoff_long_put = put_payoff(sT, strike_price, premium) # Calcolo i valori di Payoff\n",
    "    # Stampiamo a video il payoff\n",
    "    fig, ax = plt.subplots()\n",
    "    ax.spines['bottom'].set_position('zero')\n",
    "    ax.plot(sT,payoff_long_put,label='Put option buy payoff')\n",
    "    plt.xlabel('Infosys Stock Price') # asse x\n",
    "    plt.ylabel('Profit and loss')  # asse y \n",
    "    plt.legend() # Stampa la legenda in alto a desrta\n",
    "    plt.show() # Finalmente il grafico :-)"
   ]
  },
  {
   "cell_type": "code",
   "execution_count": 8,
   "metadata": {},
   "outputs": [],
   "source": [
    "def print_call_sell(sT, strike_price, premium):\n",
    "    payoff_long_call = call_payoff(sT, strike_price, premium)\n",
    "    payoff_short_call = payoff_long_call * -1.0\n",
    "    # Plot\n",
    "    fig, ax = plt.subplots()\n",
    "    ax.spines['bottom'].set_position('zero')\n",
    "    ax.plot(sT,payoff_short_call,label='Short 1140 Strike Call',color='r')\n",
    "    plt.xlabel('Infosys Stock Price')\n",
    "    plt.ylabel('Profit and loss')\n",
    "    plt.legend()\n",
    "    plt.show()"
   ]
  },
  {
   "cell_type": "code",
   "execution_count": null,
   "metadata": {},
   "outputs": [],
   "source": [
    "def print_put_sell(sT, strike_price, premium):\n",
    "    payoff_long_put = put_payoff(sT, strike_price, premium) \n",
    "    payoff_short_put = payoff_long_put * -1.0\n",
    "    # Plot\n",
    "    fig, ax = plt.subplots()\n",
    "    ax.spines['bottom'].set_position('zero')\n",
    "    ax.plot(sT,payoff_short_put,label='Put option seller payoff',color='r')\n",
    "    plt.xlabel('Infosys Stock Price')\n",
    "    plt.ylabel('Profit and loss')\n",
    "    plt.legend()\n",
    "    plt.show()"
   ]
  },
  {
   "cell_type": "markdown",
   "metadata": {},
   "source": [
    "Elaboriamo l'input dell'utente"
   ]
  },
  {
   "cell_type": "code",
   "execution_count": 11,
   "metadata": {},
   "outputs": [
    {
     "name": "stdout",
     "output_type": "stream",
     "text": [
      "---------------------- Scegli l'operazione ----------------------\n",
      "1. Disegna payoff BUY CALL\n",
      "2. Disegna payoff SELL CALL\n",
      "3. Disegna payoff BUY PUT\n",
      "4. Disegna payoff SELL PUT\n",
      "5. Exit\n",
      "-------------------------------------------------------------------\n",
      "Scegli il payoff da visualizzare [1-5]: 2\n",
      "SELL CALL\n",
      "---------- Inserisci i parametri di calcolo N.B Solo numeri interi ----------\n",
      "--------------------------------------------------\n",
      "Stock price =1140\n",
      "Strike price =1140\n",
      "Premio opzione =20\n"
     ]
    },
    {
     "data": {
      "image/png": "[encoded data removed]",
      "text/plain": [
       "<Figure size 432x288 with 1 Axes>"
      ]
     },
     "metadata": {},
     "output_type": "display_data"
    },
    {
     "name": "stdout",
     "output_type": "stream",
     "text": [
      "---------------------- Scegli l'operazione ----------------------\n",
      "1. Disegna payoff BUY CALL\n",
      "2. Disegna payoff SELL CALL\n",
      "3. Disegna payoff BUY PUT\n",
      "4. Disegna payoff SELL PUT\n",
      "5. Exit\n",
      "-------------------------------------------------------------------\n",
      "Scegli il payoff da visualizzare [1-5]: 4\n",
      "SELL PUT\n",
      "---------- Inserisci i parametri di calcolo N.B Solo numeri interi ----------\n",
      "--------------------------------------------------\n",
      "Stock price =1140\n",
      "Strike price =1140\n",
      "Premio opzione =20\n"
     ]
    },
    {
     "data": {
      "image/png": "[encoded data removed]",
      "text/plain": [
       "<Figure size 432x288 with 1 Axes>"
      ]
     },
     "metadata": {},
     "output_type": "display_data"
    },
    {
     "name": "stdout",
     "output_type": "stream",
     "text": [
      "---------------------- Scegli l'operazione ----------------------\n",
      "1. Disegna payoff BUY CALL\n",
      "2. Disegna payoff SELL CALL\n",
      "3. Disegna payoff BUY PUT\n",
      "4. Disegna payoff SELL PUT\n",
      "5. Exit\n",
      "-------------------------------------------------------------------\n",
      "Scegli il payoff da visualizzare [1-5]: 5\n",
      "Uscita\n"
     ]
    }
   ],
   "source": [
    "loop = True\n",
    "azione = 0\n",
    "while(loop):\n",
    "    print_menu()\n",
    "    azione = input(\"Scegli il payoff da visualizzare [1-5]: \")\n",
    "    \n",
    "    if azione == '1':     \n",
    "        print (\"BUY CALL\")\n",
    "        print_menu_2()\n",
    "        stock_price = int(input(\"Stock price =\"))\n",
    "        strike_price = int(input(\"Strike price =\"))\n",
    "        premium = int(input(\"Premio opzione =\"))\n",
    "        sT = np.arange(0.9*stock_price,1.2*stock_price)\n",
    "        print_call_buy(sT, strike_price, premium)\n",
    "        \n",
    "    elif azione == '2':\n",
    "        print (\"SELL CALL\")\n",
    "        print_menu_2()\n",
    "        stock_price = int(input(\"Stock price =\"))\n",
    "        strike_price = int(input(\"Strike price =\"))\n",
    "        premium = int(input(\"Premio opzione =\"))\n",
    "        sT = np.arange(0.9*stock_price,1.2*stock_price)\n",
    "        print_call_sell(sT, strike_price, premium)\n",
    "        \n",
    "    elif azione == '3':\n",
    "        print (\"BUY PUT\")\n",
    "        print_menu_2()\n",
    "        stock_price = int(input(\"Stock price =\"))\n",
    "        strike_price = int(input(\"Strike price =\"))\n",
    "        premium = int(input(\"Premio opzione =\"))\n",
    "        sT = np.arange(0.9*stock_price,1.2*stock_price)\n",
    "        print_put_buy(sT, strike_price, premium)\n",
    "        \n",
    "    elif azione == '4':\n",
    "        print (\"SELL PUT\")\n",
    "        print_menu_2()\n",
    "        stock_price = int(input(\"Stock price =\"))\n",
    "        strike_price = int(input(\"Strike price =\"))\n",
    "        premium = int(input(\"Premio opzione =\"))\n",
    "        sT = np.arange(0.9*stock_price,1.2*stock_price)\n",
    "        print_put_sell(sT, strike_price, premium)\n",
    "        \n",
    "    elif azione == '5':\n",
    "        print (\"Uscita\")\n",
    "        loop = False \n",
    "    else:\n",
    "        input(\"Scelta errata. Prova ancora...\")"
   ]
  },
  {
   "cell_type": "markdown",
   "metadata": {},
   "source": [
    "Definiamo le varie azioni"
   ]
  },
  {
   "cell_type": "code",
   "execution_count": 19,
   "metadata": {},
   "outputs": [
    {
     "ename": "NameError",
     "evalue": "name 'stock_price' is not defined",
     "output_type": "error",
     "traceback": [
      "\u001b[0;31m---------------------------------------------------------------------------\u001b[0m",
      "\u001b[0;31mNameError\u001b[0m                                 Traceback (most recent call last)",
      "\u001b[0;32m<ipython-input-19-a36d27dbd96d>\u001b[0m in \u001b[0;36m<module>\u001b[0;34m()\u001b[0m\n\u001b[0;32m----> 1\u001b[0;31m \u001b[0mstock_price\u001b[0m\u001b[0;34m\u001b[0m\u001b[0m\n\u001b[0m",
      "\u001b[0;31mNameError\u001b[0m: name 'stock_price' is not defined"
     ]
    }
   ],
   "source": [
    "stock_price"
   ]
  },
  {
   "cell_type": "code",
   "execution_count": 24,
   "metadata": {},
   "outputs": [
    {
     "ename": "NameError",
     "evalue": "name 'stock_price' is not defined",
     "output_type": "error",
     "traceback": [
      "\u001b[0;31m---------------------------------------------------------------------------\u001b[0m",
      "\u001b[0;31mNameError\u001b[0m                                 Traceback (most recent call last)",
      "\u001b[0;32m<ipython-input-24-a36d27dbd96d>\u001b[0m in \u001b[0;36m<module>\u001b[0;34m()\u001b[0m\n\u001b[0;32m----> 1\u001b[0;31m \u001b[0mstock_price\u001b[0m\u001b[0;34m\u001b[0m\u001b[0m\n\u001b[0m",
      "\u001b[0;31mNameError\u001b[0m: name 'stock_price' is not defined"
     ]
    }
   ],
   "source": [
    "stock_price"
   ]
  },
  {
   "cell_type": "code",
   "execution_count": 29,
   "metadata": {},
   "outputs": [
    {
     "ename": "NameError",
     "evalue": "name 'stock_price' is not defined",
     "output_type": "error",
     "traceback": [
      "\u001b[0;31m---------------------------------------------------------------------------\u001b[0m",
      "\u001b[0;31mNameError\u001b[0m                                 Traceback (most recent call last)",
      "\u001b[0;32m<ipython-input-29-a36d27dbd96d>\u001b[0m in \u001b[0;36m<module>\u001b[0;34m()\u001b[0m\n\u001b[0;32m----> 1\u001b[0;31m \u001b[0mstock_price\u001b[0m\u001b[0;34m\u001b[0m\u001b[0m\n\u001b[0m",
      "\u001b[0;31mNameError\u001b[0m: name 'stock_price' is not defined"
     ]
    }
   ],
   "source": [
    "stock_price"
   ]
  },
  {
   "cell_type": "code",
   "execution_count": null,
   "metadata": {},
   "outputs": [],
   "source": []
  }
 ],
 "metadata": {
  "kernelspec": {
   "display_name": "Python 3",
   "language": "python",
   "name": "python3"
  },
  "language_info": {
   "codemirror_mode": {
    "name": "ipython",
    "version": 3
   },
   "file_extension": ".py",
   "mimetype": "text/x-python",
   "name": "python",
   "nbconvert_exporter": "python",
   "pygments_lexer": "ipython3",
   "version": "3.6.5"
  }
 },
 "nbformat": 4,
 "nbformat_minor": 2
}
